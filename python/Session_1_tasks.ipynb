{
  "nbformat": 4,
  "nbformat_minor": 0,
  "metadata": {
    "colab": {
      "provenance": [],
      "include_colab_link": true
    },
    "kernelspec": {
      "name": "python3",
      "display_name": "Python 3"
    },
    "language_info": {
      "name": "python"
    }
  },
  "cells": [
    {
      "cell_type": "markdown",
      "metadata": {
        "id": "view-in-github",
        "colab_type": "text"
      },
      "source": [
        "<a href=\"https://colab.research.google.com/github/shradhyepatel/data-science-practice-log/blob/main/python/Session_1_tasks.ipynb\" target=\"_parent\"><img src=\"https://colab.research.google.com/assets/colab-badge.svg\" alt=\"Open In Colab\"/></a>"
      ]
    },
    {
      "cell_type": "markdown",
      "source": [
        "# Task : Session 1\n",
        "Solve these questions own your own and try to test yourself what you have learned in the session.\n",
        "\n",
        "Happy Learning!"
      ],
      "metadata": {
        "id": "A05OG15VqOPF"
      }
    },
    {
      "cell_type": "markdown",
      "source": [
        "### Q1 :- Print the given strings as per stated format.\n",
        "\n",
        "**Given strings**:\n",
        "```\n",
        "\"Data\" \"Science\" \"Mentorship\" \"Program\"\n",
        "\"By\" \"CampusX\"\n",
        "```\n",
        "**Output**:\n",
        "```\n",
        "Data-Science-Mentorship-Program-started-By-CampusX\n",
        "```\n",
        "\n",
        "Concept- [Seperator and End]"
      ],
      "metadata": {
        "id": "2doIXf8bqe9_"
      }
    },
    {
      "cell_type": "code",
      "source": [
        "print(\"Data\", \"Science\", \"Mentorship\", \"Program\", sep = '-' , end = '-')\n",
        "print('Started' , sep = '-' , end = '-')\n",
        "print(\"By\", \"CampusX\" , sep = \"-\")"
      ],
      "metadata": {
        "colab": {
          "base_uri": "https://localhost:8080/"
        },
        "id": "CjWHOW3IW5JR",
        "outputId": "e40feec8-8572-4933-98a2-c47bea881a96"
      },
      "execution_count": null,
      "outputs": [
        {
          "output_type": "stream",
          "name": "stdout",
          "text": [
            "Data-Science-Mentorship-Program-Started-By-CampusX\n"
          ]
        }
      ]
    },
    {
      "cell_type": "markdown",
      "source": [
        "### Q2:- Write a program that will convert celsius value to fahrenheit."
      ],
      "metadata": {
        "id": "1KUpN7ZTrC3_"
      }
    },
    {
      "cell_type": "code",
      "source": [
        "# Write your code here\n",
        "# Take Input\n",
        "celcious = float(input('Enter Temprature in celcious'))\n",
        "\n",
        "# Calculate\n",
        "fahrenheit = (celcious * 1.8) + 32\n",
        "\n",
        "# Print\n",
        "print(fahrenheit)\n",
        "\n",
        "####  Input always takes numbers as strings; it does not convert them explicitly. ####"
      ],
      "metadata": {
        "id": "yxKYhYQiqWfj",
        "colab": {
          "base_uri": "https://localhost:8080/"
        },
        "outputId": "09b916ce-e4b8-4e21-fc48-2518e2d6b20b"
      },
      "execution_count": null,
      "outputs": [
        {
          "output_type": "stream",
          "name": "stdout",
          "text": [
            "Enter Temprature in celcious35.6\n",
            "96.08\n"
          ]
        }
      ]
    },
    {
      "cell_type": "markdown",
      "source": [
        "### Q3:- Take 2 numbers as input from the user.Write a program to swap the numbers without using any special python syntax."
      ],
      "metadata": {
        "id": "RLrOBBJurLB2"
      }
    },
    {
      "cell_type": "code",
      "source": [
        "# Write your code here\n",
        "\n",
        "# Take both input\n",
        "num1 = int(input(\"Enter no 1\"))\n",
        "num2 = int(input(\"Enter no 2\"))\n",
        "\n",
        "# Swap using temp\n",
        "temp = num1\n",
        "num1 = num2\n",
        "num2 = temp\n",
        "\n",
        "# Print swaped numbers\n",
        "print(num1 , num2)"
      ],
      "metadata": {
        "id": "yPn7if0TrJ4F",
        "colab": {
          "base_uri": "https://localhost:8080/"
        },
        "outputId": "1998c59e-ffd6-4e17-e2df-d333f612333e"
      },
      "execution_count": null,
      "outputs": [
        {
          "output_type": "stream",
          "name": "stdout",
          "text": [
            "Enter no 110\n",
            "Enter no 220\n",
            "20 10\n"
          ]
        }
      ]
    },
    {
      "cell_type": "markdown",
      "source": [
        "### Q4:- Write a program to find the euclidean distance between two coordinates.Take both the coordinates from the user as input."
      ],
      "metadata": {
        "id": "waLCP1bjr7ML"
      }
    },
    {
      "cell_type": "code",
      "source": [
        "# Write your code here\n",
        "# Import Math\n",
        "import math\n",
        "\n",
        "# Take Input\n",
        "x1 = float(input(\"Enter X1 cordinate of A\"))\n",
        "y1 = float(input(\"Enter Y1 cordinate of A\"))\n",
        "x2 = float(input(\"Enter X2 cordinate of B\"))\n",
        "y2 = float(input(\"Enter Y2 cordinate of B\"))\n",
        "\n",
        "# Calculate using math.dist\n",
        "ans = math.dist([x1 , y1] , [x2 , y2])\n",
        "\n",
        "# Print the answer\n",
        "print(ans)"
      ],
      "metadata": {
        "id": "Pl1Sv-xnrxnH",
        "colab": {
          "base_uri": "https://localhost:8080/"
        },
        "outputId": "d5195696-37d6-479c-e7ed-2d9a8f08f160"
      },
      "execution_count": null,
      "outputs": [
        {
          "output_type": "stream",
          "name": "stdout",
          "text": [
            "Enter X1 cordinate of A5\n",
            "Enter Y1 cordinate of A6\n",
            "Enter X2 cordinate of B3\n",
            "Enter Y2 cordinate of B9\n",
            "3.605551275463989\n"
          ]
        }
      ]
    },
    {
      "cell_type": "markdown",
      "source": [
        "### Q5:- Write a program to find the simple interest when the value of principle,rate of interest and time period is provided by the user.\n"
      ],
      "metadata": {
        "id": "VLrhg-FRsHjR"
      }
    },
    {
      "cell_type": "code",
      "source": [
        "# Write your code here\n",
        "\n",
        "# Taking Input\n",
        "principal = int(input(\"Enter principal amount\"))\n",
        "rate_of_intrest = float(input(\"Enter rate of intrest\"))\n",
        "time_period = int(input(\"Enter Time period in years\"))\n",
        "\n",
        "# Calculate Using SI Formuela\n",
        "simple_intrest = (principal * rate_of_intrest * time_period)/100\n",
        "\n",
        "# Print\n",
        "print(simple_intrest)"
      ],
      "metadata": {
        "id": "s40DlReZsTmY",
        "colab": {
          "base_uri": "https://localhost:8080/"
        },
        "outputId": "e61156f2-99f6-4a32-9814-adaf445ce38f"
      },
      "execution_count": null,
      "outputs": [
        {
          "output_type": "stream",
          "name": "stdout",
          "text": [
            "Enter principal amount250000\n",
            "Enter rate of intrest12\n",
            "Enter Time period in years40\n",
            "1200000.0\n"
          ]
        }
      ]
    },
    {
      "cell_type": "markdown",
      "source": [
        "### Q6:- Write a program that will tell the number of dogs and chicken are there when the user will provide the value of total heads and legs.\n",
        "\n",
        "For example:\n",
        "Input:\n",
        "heads -> 4\n",
        "legs -> 12\n",
        "<br>\n",
        "Output:\n",
        "dogs -> 2\n",
        "chicken -> 2\n",
        "\n",
        "\n",
        "\n"
      ],
      "metadata": {
        "id": "LMy0BTUktYKa"
      }
    },
    {
      "cell_type": "code",
      "source": [
        "# Write your code here\n",
        "# takin input\n",
        "head = int(input(\"Enter total head\"))\n",
        "legs = int(input(\"Enter total lesgs\"))\n",
        "\n",
        "# Calculate\n",
        "chicken_head = 4(head - chicken_head)"
      ],
      "metadata": {
        "id": "XSBvJoA4tXaG"
      },
      "execution_count": null,
      "outputs": []
    },
    {
      "cell_type": "markdown",
      "source": [
        "### Q7:- Write a program to find the sum of squares of first n natural numbers where n will be provided by the user."
      ],
      "metadata": {
        "id": "gJ7C5kZYt4BP"
      }
    },
    {
      "cell_type": "code",
      "source": [
        "# Write your code here\n",
        "# Take Input\n",
        "\n",
        "n = int(input('Enter the n number'))\n",
        "\n",
        "# Calculate\n",
        "\n",
        "sum_square_of_n_number = (n*(n + 1)*(2*n + 1))/6\n",
        "\n",
        "# Print\n",
        "\n",
        "print(sum_square_of_n_number)"
      ],
      "metadata": {
        "id": "_tHsmEHzt2nX",
        "colab": {
          "base_uri": "https://localhost:8080/"
        },
        "outputId": "1e56e61c-77b1-49fa-8330-220ff2b3460e"
      },
      "execution_count": null,
      "outputs": [
        {
          "output_type": "stream",
          "name": "stdout",
          "text": [
            "Enter the n number15\n",
            "1240.0\n"
          ]
        }
      ]
    },
    {
      "cell_type": "markdown",
      "source": [
        "### Q8:- Given the first 2 terms of an Arithmetic Series.Find the Nth term of the series. Assume all inputs are provided by the user."
      ],
      "metadata": {
        "id": "FHrMM7g-yG1h"
      }
    },
    {
      "cell_type": "code",
      "source": [
        "# Write your code here\n",
        "# Taking Input\n",
        "\n",
        "a1 = int(input('Enter A1'))\n",
        "a2 = int(input('Enter A2'))\n",
        "an = int(input('Enetr nth position'))\n",
        "\n",
        "# Calculate\n",
        "\n",
        "d = a2 - a1\n",
        "\n",
        "an = a1 + (an - 1)*d\n",
        "\n",
        "print(an)"
      ],
      "metadata": {
        "id": "go4_kmZmyVSx",
        "colab": {
          "base_uri": "https://localhost:8080/"
        },
        "outputId": "3a8f4b11-4ee8-4757-c155-95f2857b4c4c"
      },
      "execution_count": null,
      "outputs": [
        {
          "output_type": "stream",
          "name": "stdout",
          "text": [
            "Enter A15\n",
            "Enter A210\n",
            "Enetr nth position8\n",
            "40\n"
          ]
        }
      ]
    },
    {
      "cell_type": "markdown",
      "source": [
        "### Q9:- Given 2 fractions, find the sum of those 2 fractions.Take the numerator and denominator values of the fractions from the user."
      ],
      "metadata": {
        "id": "QgyRX_es1oum"
      }
    },
    {
      "cell_type": "code",
      "source": [
        "# Write your code here\n",
        "# Taking Input\n",
        "\n",
        "num_a1 = int(input('Enter the the numerator of 1st fraction'))\n",
        "dem_a1 = int(input('Enter the the denominator of 1st fraction'))\n",
        "\n",
        "num_a2 = int(input('Enter the the numerator of 2st fraction'))\n",
        "dem_a2 = int(input('Enter the the denominator of 2nd fraction'))\n",
        "\n",
        "\n",
        "# Calculation & Print\n",
        "\n",
        "if dem_a1 == dem_a2:\n",
        "  print((num_a1 + num_a2), '/' , dem_a1)\n",
        "\n",
        "else :\n",
        "  print((num_a1 * dem_a2) + (num_a2 * dem_a1), \"/\", (dem_a1 * dem_a2))\n"
      ],
      "metadata": {
        "id": "X05xqFS1yW16",
        "colab": {
          "base_uri": "https://localhost:8080/"
        },
        "outputId": "6966c0e1-42cc-41aa-efd7-b2340340460b"
      },
      "execution_count": null,
      "outputs": [
        {
          "output_type": "stream",
          "name": "stdout",
          "text": [
            "Enter the the numerator of 1st fraction2\n",
            "Enter the the denominator of 1st fraction3\n",
            "Enter the the numerator of 2st fraction1\n",
            "Enter the the denominator of 2nd fraction5\n",
            "13 / 15\n"
          ]
        }
      ]
    },
    {
      "cell_type": "markdown",
      "source": [
        "### Q10:- Given the height, width and breadth of a milk tank, you have to find out how many glasses of milk can be obtained? Assume all the inputs are provided by the user.\n",
        "\n",
        "\n",
        "\n",
        "Input:<br>\n",
        "Dimensions of the milk tank<br>\n",
        "H = 20cm, L = 20cm, B = 20cm\n",
        "<br><br>\n",
        "Dimensions of the glass<br>\n",
        "h = 3cm, r = 1cm"
      ],
      "metadata": {
        "id": "eaql38ln13u7"
      }
    },
    {
      "cell_type": "code",
      "source": [
        "# Write your code here\n",
        "\n",
        "# Taking Input\n",
        "\n",
        "tank_height = int(input('Enter the height of tank'))\n",
        "tank_lenght = int(input('Enter the lenght of tank'))\n",
        "tank_breadth = int(input('Enter the breadth of tank'))\n",
        "\n",
        "glass_height = int(input(\"Enter the height of glass\"))\n",
        "glass_radius = int(input('Enter the radius of glass'))\n",
        "\n",
        "# Calculate\n",
        "\n",
        "tank_volume = tank_breadth * tank_height * tank_lenght\n",
        "glass_volume = (3.14 * (glass_radius ** 2) * glass_height)/3\n",
        "\n",
        "# Print the result after Calculation\n",
        "print (\"Total Glasses of milk :\" , tank_volume / glass_volume)"
      ],
      "metadata": {
        "id": "FePZqno74eWv",
        "colab": {
          "base_uri": "https://localhost:8080/"
        },
        "outputId": "8fe717eb-c644-43fa-f626-e1274d5683f3"
      },
      "execution_count": null,
      "outputs": [
        {
          "output_type": "stream",
          "name": "stdout",
          "text": [
            "Enter the height of tank14\n",
            "Enter the lenght of tank20\n",
            "Enter the breadth of tank27\n",
            "Enter the height of glass1\n",
            "Enter the radius of glass1\n",
            "Total Glasses of milk : 7222.929936305733\n"
          ]
        }
      ]
    }
  ]
}